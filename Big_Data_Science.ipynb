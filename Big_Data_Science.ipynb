{
  "nbformat": 4,
  "nbformat_minor": 0,
  "metadata": {
    "colab": {
      "provenance": [],
      "authorship_tag": "ABX9TyOsSxRbUoVas8pWLfjJeP53",
      "include_colab_link": true
    },
    "kernelspec": {
      "name": "python3",
      "display_name": "Python 3"
    },
    "language_info": {
      "name": "python"
    }
  },
  "cells": [
    {
      "cell_type": "markdown",
      "metadata": {
        "id": "view-in-github",
        "colab_type": "text"
      },
      "source": [
        "<a href=\"https://colab.research.google.com/github/mbabar1100/CSCI5952GenerativeImputationOfMissingOmics/blob/main/Big_Data_Science.ipynb\" target=\"_parent\"><img src=\"https://colab.research.google.com/assets/colab-badge.svg\" alt=\"Open In Colab\"/></a>"
      ]
    },
    {
      "cell_type": "code",
      "execution_count": 2,
      "metadata": {
        "id": "lDnbNkz42Tbt"
      },
      "outputs": [],
      "source": [
        "import os\n",
        "import random\n",
        "import numpy as np\n",
        "import pandas as pd\n",
        "import matplotlib.pyplot as plt\n",
        "import seaborn as sns\n",
        "from sklearn.impute import KNNImputer\n",
        "from sklearn.preprocessing import StandardScaler, OneHotEncoder\n",
        "from sklearn.model_selection import train_test_split\n",
        "from sklearn.metrics import mean_squared_error\n",
        "from sklearn.decomposition import PCA\n",
        "from sklearn.cluster import KMeans\n",
        "from sklearn.metrics import adjusted_rand_score, normalized_mutual_info_score\n",
        "import torch\n",
        "import torch.nn as nn\n",
        "import torch.optim as optim"
      ]
    },
    {
      "cell_type": "code",
      "source": [
        "import pandas as pd\n",
        "url = \"https://raw.githubusercontent.com/instadeepai/multiomics-open-research/main/data/bulkrnabert/tcga_sample.csv\"\n",
        "df = pd.read_csv(url)"
      ],
      "metadata": {
        "id": "SSlC1tLK3ck5"
      },
      "execution_count": 3,
      "outputs": []
    },
    {
      "cell_type": "code",
      "source": [
        "\n",
        "#Install the GDC Data Transfer Tool\n",
        "!wget https://gdc.cancer.gov/files/public/file/gdc-client_v1.6.1_Ubuntu_x64.zip -O gdc-client.zip\n",
        "!unzip gdc-client.zip\n",
        "!chmod +x gdc-client"
      ],
      "metadata": {
        "colab": {
          "base_uri": "https://localhost:8080/"
        },
        "id": "8V8IWe9i3cnz",
        "outputId": "0a9a46ec-a2ae-49fd-a42e-36085d9d89d7"
      },
      "execution_count": 4,
      "outputs": [
        {
          "output_type": "stream",
          "name": "stdout",
          "text": [
            "--2025-10-23 21:00:28--  https://gdc.cancer.gov/files/public/file/gdc-client_v1.6.1_Ubuntu_x64.zip\n",
            "Resolving gdc.cancer.gov (gdc.cancer.gov)... 34.197.116.243, 54.197.167.184\n",
            "Connecting to gdc.cancer.gov (gdc.cancer.gov)|34.197.116.243|:443... connected.\n",
            "HTTP request sent, awaiting response... 302 Moved Temporarily\n",
            "Location: https://gdc.cancer.gov:443/system/files/public/file/gdc-client_v1.6.1_Ubuntu_x64.zip [following]\n",
            "--2025-10-23 21:00:28--  https://gdc.cancer.gov/system/files/public/file/gdc-client_v1.6.1_Ubuntu_x64.zip\n",
            "Reusing existing connection to gdc.cancer.gov:443.\n",
            "HTTP request sent, awaiting response... 200 OK\n",
            "Length: 23940006 (23M) [application/zip]\n",
            "Saving to: ‘gdc-client.zip’\n",
            "\n",
            "gdc-client.zip      100%[===================>]  22.83M  50.4MB/s    in 0.5s    \n",
            "\n",
            "2025-10-23 21:00:29 (50.4 MB/s) - ‘gdc-client.zip’ saved [23940006/23940006]\n",
            "\n",
            "Archive:  gdc-client.zip\n",
            " extracting: gdc-client              \n"
          ]
        }
      ]
    },
    {
      "cell_type": "code",
      "source": [
        "from google.colab import drive\n",
        "drive.mount('/content/drive')"
      ],
      "metadata": {
        "colab": {
          "base_uri": "https://localhost:8080/"
        },
        "id": "odsnJAoZ4lnU",
        "outputId": "c3b8bf85-12f9-4b61-88a3-26ea8f4b99ed"
      },
      "execution_count": 5,
      "outputs": [
        {
          "output_type": "stream",
          "name": "stdout",
          "text": [
            "Mounted at /content/drive\n"
          ]
        }
      ]
    },
    {
      "cell_type": "code",
      "source": [
        "import os\n",
        "\n",
        "# Create a folder in Drive to store TCGA data\n",
        "data_dir = \"/content/drive/MyDrive/Colab Notebooks/TCGA_data\"\n",
        "os.makedirs(data_dir, exist_ok=True)\n",
        "\n",
        "print(\"Data directory created at:\", data_dir)"
      ],
      "metadata": {
        "colab": {
          "base_uri": "https://localhost:8080/"
        },
        "id": "0_qVtUTU4l2y",
        "outputId": "d74503d0-6fce-4393-b0f2-7971c55b9b24"
      },
      "execution_count": 6,
      "outputs": [
        {
          "output_type": "stream",
          "name": "stdout",
          "text": [
            "Data directory created at: /content/drive/MyDrive/Colab Notebooks/TCGA_data\n"
          ]
        }
      ]
    },
    {
      "cell_type": "code",
      "source": [
        "import os\n",
        "import pandas as pd\n",
        "\n",
        "# Step 1: Define base directory in your Google Drive (for saving outputs)\n",
        "base_dir = \"/content/drive/MyDrive/Colab Notebooks/TCGA_data\"\n",
        "output_dir = os.path.join(base_dir, \"merged_batches\")\n",
        "os.makedirs(output_dir, exist_ok=True)\n",
        "\n",
        "# Step 2: TCGA transcriptomics dataset URL (from GitHub raw)\n",
        "url = \"https://raw.githubusercontent.com/instadeepai/multiomics-open-research/main/data/bulkrnabert/tcga_sample.csv\"\n",
        "\n",
        "# Step 3: Load the dataset\n",
        "try:\n",
        "    df = pd.read_csv(url)\n",
        "    print(\"Dataset loaded successfully!\")\n",
        "    print(\"Shape:\", df.shape)\n",
        "    print(df.head(3))\n",
        "except Exception as e:\n",
        "    print(\"Error loading dataset:\", e)\n",
        "\n",
        "# Step 4: Add a modality label (for consistency with multi-omics structure)\n",
        "df['modality'] = \"transcriptomics\"\n",
        "\n",
        "# Step 5: Add a sample_id column if it’s missing\n",
        "if 'sample_id' not in df.columns:\n",
        "    df['sample_id'] = df.index\n",
        "\n",
        "# Step 6: Save as a Parquet file for efficient storage\n",
        "output_file = os.path.join(output_dir, \"transcriptomics_tcga_sample.parquet\")\n",
        "df.to_parquet(output_file)\n",
        "print(f\"Saved processed file to: {output_file}\")\n",
        "\n",
        "\n",
        ""
      ],
      "metadata": {
        "colab": {
          "base_uri": "https://localhost:8080/"
        },
        "id": "Bectx9Z13crT",
        "outputId": "fb2b4dd7-189b-4bb1-a2dd-d8b34e45bb11"
      },
      "execution_count": 8,
      "outputs": [
        {
          "output_type": "stream",
          "name": "stdout",
          "text": [
            "Dataset loaded successfully!\n",
            "Shape: (4, 19063)\n",
            "   ENSG00000000003  ENSG00000000005  ENSG00000000419  ENSG00000000457  \\\n",
            "0          69.5439           0.4599         112.2372           8.4532   \n",
            "1          55.2986           1.8746          51.8722           4.8353   \n",
            "2           5.8836           1.3023         115.9459           6.9493   \n",
            "\n",
            "   ENSG00000000460  ENSG00000000938  ENSG00000000971  ENSG00000001036  \\\n",
            "0           8.4303          19.1823           7.8015          62.8843   \n",
            "1           4.0387          12.6223          12.9179          38.7700   \n",
            "2           4.3589           6.8639           2.4921          30.7555   \n",
            "\n",
            "   ENSG00000001084  ENSG00000001167  ...  ENSG00000284532  ENSG00000284535  \\\n",
            "0          19.1064          31.7049  ...              0.0              0.0   \n",
            "1          12.1175          15.9724  ...              0.0              0.0   \n",
            "2          17.7058          19.6703  ...              0.0              0.0   \n",
            "\n",
            "   ENSG00000284543  ENSG00000284557  ENSG00000284564  ENSG00000284574  \\\n",
            "0           0.0492              0.0              0.0              0.0   \n",
            "1           0.0080              0.0              0.0              0.0   \n",
            "2           0.0075              0.0              0.0              0.0   \n",
            "\n",
            "   ENSG00000284587  ENSG00000284595  ENSG00000284596        identifier  \n",
            "0              0.0              0.0              0.0  TCGA-06-2559-01A  \n",
            "1              0.0              0.0              0.0  TCGA-06-0187-01A  \n",
            "2              0.0              0.0              0.0  TCGA-27-2521-01A  \n",
            "\n",
            "[3 rows x 19063 columns]\n",
            "Saved processed file to: /content/drive/MyDrive/Colab Notebooks/TCGA_data/merged_batches/transcriptomics_tcga_sample.parquet\n"
          ]
        }
      ]
    },
    {
      "cell_type": "code",
      "source": [
        "import os\n",
        "import pandas as pd\n",
        "from glob import glob\n",
        "\n",
        "# Paths\n",
        "base_dir = \"/content/drive/MyDrive/Colab Notebooks/TCGA_data\"\n",
        "merged_batches_dir = os.path.join(base_dir, \"merged_batches\")\n",
        "imputation_ready_dir = os.path.join(base_dir, \"imputation_ready\")\n",
        "os.makedirs(imputation_ready_dir, exist_ok=True)\n",
        "\n",
        "# Define column patterns per modality\n",
        "modality_patterns = {\n",
        "    \"genomics\": [\"copy_number\", \"min_copy_number\", \"max_copy_number\", \"mutation\"],\n",
        "    \"transcriptomics\": [\"tpm\", \"fpkm\", \"gene\", \"expression\"],\n",
        "    \"clinical\": [\"age\", \"gender\", \"tumor_stage\", \"vital_status\", \"days_to_death\", \"days_to_last_followup\"]\n",
        "}\n",
        "\n",
        "# Function to detect columns for each modality\n",
        "def detect_modality_columns(df, modality_patterns):\n",
        "    detected = {}\n",
        "    for modality, patterns in modality_patterns.items():\n",
        "        matched_cols = [c for c in df.columns if any(p in c.lower() for p in patterns)]\n",
        "        detected[modality] = matched_cols\n",
        "    return detected\n",
        "\n",
        "# Load available Parquet files from Step 6\n",
        "batch_files = sorted(glob(os.path.join(merged_batches_dir, \"*.parquet\")))\n",
        "\n",
        "if not batch_files:\n",
        "    print(\"No Parquet files found in merged_batches_dir. Make sure Step 6 ran successfully.\")\n",
        "else:\n",
        "    for batch_file in batch_files:\n",
        "        print(f\"\\n Loading batch: {batch_file}\")\n",
        "        df = pd.read_parquet(batch_file)\n",
        "\n",
        "        # Detect columns per modality\n",
        "        detected_columns = detect_modality_columns(df, modality_patterns)\n",
        "        print(f\"Detected columns per modality:\\n{detected_columns}\")\n",
        "\n",
        "        # For transcriptomics-only dataset\n",
        "        transcriptomics_cols = detected_columns.get(\"transcriptomics\", [])\n",
        "        if not transcriptomics_cols:\n",
        "            print(\"No transcriptomics columns detected, saving full dataset instead.\")\n",
        "            transcriptomics_cols = df.columns.tolist()\n",
        "\n",
        "        # Include sample_id if present\n",
        "        if \"sample_id\" in df.columns and \"sample_id\" not in transcriptomics_cols:\n",
        "            transcriptomics_cols.append(\"sample_id\")\n",
        "\n",
        "        # Subset and save transcriptomics data\n",
        "        transcriptomics_df = df[transcriptomics_cols]\n",
        "        out_file = os.path.join(imputation_ready_dir, f\"transcriptomics_imputation_ready.parquet\")\n",
        "        transcriptomics_df.to_parquet(out_file, index=False)\n",
        "        print(f\"Saved imputation-ready transcriptomics data to:\\n{out_file}\")\n",
        "\n",
        "print(\"\\n Step 7 complete: Transcriptomics data prepared and ready for imputation.\")\n"
      ],
      "metadata": {
        "colab": {
          "base_uri": "https://localhost:8080/"
        },
        "id": "1_KHW4EL3c1h",
        "outputId": "f0a9514f-e67a-4d41-f441-ea2fcf55c104"
      },
      "execution_count": 16,
      "outputs": [
        {
          "output_type": "stream",
          "name": "stdout",
          "text": [
            "\n",
            " Loading batch: /content/drive/MyDrive/Colab Notebooks/TCGA_data/merged_batches/transcriptomics_tcga_sample.parquet\n",
            "Detected columns per modality:\n",
            "{'genomics': [], 'transcriptomics': [], 'clinical': []}\n",
            "No transcriptomics columns detected, saving full dataset instead.\n",
            "Saved imputation-ready transcriptomics data to:\n",
            "/content/drive/MyDrive/Colab Notebooks/TCGA_data/imputation_ready/transcriptomics_imputation_ready.parquet\n",
            "\n",
            " Step 7 complete: Transcriptomics data prepared and ready for imputation.\n"
          ]
        }
      ]
    },
    {
      "cell_type": "code",
      "source": [
        "import numpy as np\n",
        "import pandas as pd\n",
        "from sklearn.impute import KNNImputer, SimpleImputer\n",
        "import os\n",
        "\n",
        "expr_file = \"/content/drive/MyDrive/Colab Notebooks/TCGA_data/imputation_ready/transcriptomics_imputation_ready.parquet\"\n",
        "output_dir = \"/content/drive/MyDrive/Colab Notebooks/TCGA_data/imputation_ready\"\n",
        "expr_df = pd.read_parquet(expr_file)\n",
        "print(\"Loaded transcriptomics data\")\n",
        "print(expr_df.shape)\n",
        "print(expr_df.head(3))\n",
        "\n",
        "expr_numeric = expr_df.select_dtypes(include=[np.number])\n",
        "print(f\"Numeric columns before cleaning: {expr_numeric.shape[1]}\")\n",
        "\n",
        "expr_numeric_clean = expr_numeric.dropna(axis=1, how='all')\n",
        "print(f\"Columns after dropping all-NaN: {expr_numeric_clean.shape[1]}\")\n",
        "\n",
        "X = expr_numeric_clean.to_numpy().copy()\n",
        "mask = np.random.rand(*X.shape) < 0.1  # 10% missing\n",
        "X[mask] = np.nan\n",
        "print(f\"Introduced missing values: {np.isnan(X).sum()} entries masked\")\n",
        "\n",
        "knn_imputer = KNNImputer(n_neighbors=5)\n",
        "X_knn_imputed = knn_imputer.fit_transform(X)\n",
        "print(\"KNN imputation complete\")\n",
        "\n",
        "mean_imputer = SimpleImputer(strategy=\"mean\")\n",
        "X_mean_imputed = mean_imputer.fit_transform(X)\n",
        "print(\"Mean imputation complete\")\n",
        "\n",
        "df_knn = pd.DataFrame(X_knn_imputed, columns=expr_numeric_clean.columns, index=expr_numeric_clean.index)\n",
        "df_mean = pd.DataFrame(X_mean_imputed, columns=expr_numeric_clean.columns, index=expr_numeric_clean.index)\n",
        "\n",
        "os.makedirs(output_dir, exist_ok=True)\n",
        "df_knn.to_parquet(os.path.join(output_dir, \"transcriptomics_knn_imputed.parquet\"), index=False)\n",
        "df_mean.to_parquet(os.path.join(output_dir, \"transcriptomics_mean_imputed.parquet\"), index=False)\n",
        "print(f\"Imputed files saved to: {output_dir}\")\n"
      ],
      "metadata": {
        "colab": {
          "base_uri": "https://localhost:8080/"
        },
        "id": "hlwUdgpi3c67",
        "outputId": "7cfa94fb-bbe3-4359-882a-6ac6767d5a7c"
      },
      "execution_count": 12,
      "outputs": [
        {
          "output_type": "stream",
          "name": "stdout",
          "text": [
            "Loaded transcriptomics data\n",
            "(4, 19065)\n",
            "   ENSG00000000003  ENSG00000000005  ENSG00000000419  ENSG00000000457  \\\n",
            "0          69.5439           0.4599         112.2372           8.4532   \n",
            "1          55.2986           1.8746          51.8722           4.8353   \n",
            "2           5.8836           1.3023         115.9459           6.9493   \n",
            "\n",
            "   ENSG00000000460  ENSG00000000938  ENSG00000000971  ENSG00000001036  \\\n",
            "0           8.4303          19.1823           7.8015          62.8843   \n",
            "1           4.0387          12.6223          12.9179          38.7700   \n",
            "2           4.3589           6.8639           2.4921          30.7555   \n",
            "\n",
            "   ENSG00000001084  ENSG00000001167  ...  ENSG00000284543  ENSG00000284557  \\\n",
            "0          19.1064          31.7049  ...           0.0492              0.0   \n",
            "1          12.1175          15.9724  ...           0.0080              0.0   \n",
            "2          17.7058          19.6703  ...           0.0075              0.0   \n",
            "\n",
            "   ENSG00000284564  ENSG00000284574  ENSG00000284587  ENSG00000284595  \\\n",
            "0              0.0              0.0              0.0              0.0   \n",
            "1              0.0              0.0              0.0              0.0   \n",
            "2              0.0              0.0              0.0              0.0   \n",
            "\n",
            "   ENSG00000284596        identifier         modality  sample_id  \n",
            "0              0.0  TCGA-06-2559-01A  transcriptomics          0  \n",
            "1              0.0  TCGA-06-0187-01A  transcriptomics          1  \n",
            "2              0.0  TCGA-27-2521-01A  transcriptomics          2  \n",
            "\n",
            "[3 rows x 19065 columns]\n",
            "Numeric columns before cleaning: 19063\n",
            "Columns after dropping all-NaN: 19063\n",
            "Introduced missing values: 7598 entries masked\n",
            "KNN imputation complete\n",
            "Mean imputation complete\n",
            "Imputed files saved to: /content/drive/MyDrive/Colab Notebooks/TCGA_data/imputation_ready\n"
          ]
        }
      ]
    },
    {
      "cell_type": "code",
      "source": [
        "import torch\n",
        "import torch.nn as nn\n",
        "import torch.optim as optim\n",
        "import numpy as np\n",
        "import pandas as pd\n",
        "import os\n",
        "\n",
        "expr_file = \"/content/drive/MyDrive/Colab Notebooks/TCGA_data/imputation_ready/transcriptomics_imputation_ready.parquet\"\n",
        "expr_df = pd.read_parquet(expr_file)\n",
        "expr_numeric = expr_df.select_dtypes(include=[np.number]).dropna(axis=1, how='all')\n",
        "X = expr_numeric.to_numpy()\n",
        "print(\"Data loaded:\", X.shape)\n",
        "\n",
        "X_tensor = torch.tensor(np.nan_to_num(X), dtype=torch.float32)\n",
        "\n",
        "class Autoencoder(nn.Module):\n",
        "    def __init__(self, input_dim):\n",
        "        super().__init__()\n",
        "        self.encoder = nn.Sequential(\n",
        "            nn.Linear(input_dim, 512),\n",
        "            nn.ReLU(),\n",
        "            nn.Linear(512, 128)\n",
        "        )\n",
        "        self.decoder = nn.Sequential(\n",
        "            nn.Linear(128, 512),\n",
        "            nn.ReLU(),\n",
        "            nn.Linear(512, input_dim)\n",
        "        )\n",
        "\n",
        "    def forward(self, x):\n",
        "        encoded = self.encoder(x)\n",
        "        decoded = self.decoder(encoded)\n",
        "        return decoded\n",
        "\n",
        "device = torch.device(\"cuda\" if torch.cuda.is_available() else \"cpu\")\n",
        "print(\"Using device:\", device)\n",
        "\n",
        "input_dim = X_tensor.shape[1]\n",
        "model = Autoencoder(input_dim).to(device)\n",
        "optimizer = optim.Adam(model.parameters(), lr=1e-3)\n",
        "criterion = nn.MSELoss()\n",
        "\n",
        "X_tensor = X_tensor.to(device)\n",
        "\n",
        "epochs = 20\n",
        "for epoch in range(epochs):\n",
        "    model.train()\n",
        "    optimizer.zero_grad()\n",
        "    output = model(X_tensor)\n",
        "    loss = criterion(output, X_tensor)\n",
        "    loss.backward()\n",
        "    optimizer.step()\n",
        "\n",
        "    if (epoch+1) % 5 == 0:\n",
        "        print(f\"Epoch [{epoch+1}/{epochs}], Loss: {loss.item():.6f}\")\n",
        "\n",
        "model.eval()\n",
        "with torch.no_grad():\n",
        "    X_imputed = model(X_tensor).cpu().numpy()\n",
        "\n",
        "# Restore NaNs only for positions that were missing originally\n",
        "nan_mask = np.isnan(X)\n",
        "X_imputed[nan_mask] = X_imputed[nan_mask]\n",
        "\n",
        "# Convert back to DataFrame\n",
        "df_imputed = pd.DataFrame(X_imputed, columns=expr_numeric.columns, index=expr_numeric.index)\n",
        "\n",
        "output_dir = \"/content/drive/MyDrive/Colab Notebooks/TCGA_data/imputation_ready\"\n",
        "os.makedirs(output_dir, exist_ok=True)\n",
        "df_imputed.to_parquet(os.path.join(output_dir, \"transcriptomics_autoencoder_imputed.parquet\"), index=False)\n",
        "print(f\"Autoencoder-imputed data saved to {output_dir}\")\n"
      ],
      "metadata": {
        "colab": {
          "base_uri": "https://localhost:8080/"
        },
        "id": "m_6xE0sC3c9W",
        "outputId": "dd93bb1d-1461-4bdf-d649-b01b430da1a8"
      },
      "execution_count": 13,
      "outputs": [
        {
          "output_type": "stream",
          "name": "stdout",
          "text": [
            "Data loaded: (4, 19063)\n",
            "Using device: cpu\n",
            "Epoch [5/20], Loss: 35940.222656\n",
            "Epoch [10/20], Loss: 26491.744141\n",
            "Epoch [15/20], Loss: 18470.142578\n",
            "Epoch [20/20], Loss: 13491.131836\n",
            "Autoencoder-imputed data saved to /content/drive/MyDrive/Colab Notebooks/TCGA_data/imputation_ready\n"
          ]
        }
      ]
    },
    {
      "cell_type": "code",
      "source": [
        "import numpy as np\n",
        "from sklearn.metrics import mean_squared_error\n",
        "from scipy.stats import pearsonr\n",
        "\n",
        "# Create mask for observed entries (non-NaN in original X)\n",
        "observed_mask = ~np.isnan(X)\n",
        "rmse_knn = np.sqrt(mean_squared_error(X[observed_mask], X_knn_imputed[observed_mask]))\n",
        "rmse_mean = np.sqrt(mean_squared_error(X[observed_mask], X_mean_imputed[observed_mask]))\n",
        "\n",
        "corr_knn, _ = pearsonr(X[observed_mask].flatten(), X_knn_imputed[observed_mask].flatten())\n",
        "corr_mean, _ = pearsonr(X[observed_mask].flatten(), X_mean_imputed[observed_mask].flatten())\n",
        "\n",
        "print(f\"KNN Imputation -> RMSE: {rmse_knn:.4f}, Pearson: {corr_knn:.4f}\")\n",
        "print(f\"Mean Imputation -> RMSE: {rmse_mean:.4f}, Pearson: {corr_mean:.4f}\")\n"
      ],
      "metadata": {
        "colab": {
          "base_uri": "https://localhost:8080/"
        },
        "id": "pocrZikx3c_s",
        "outputId": "d0fb44cd-8e4d-4923-855f-b66b423b295e"
      },
      "execution_count": 14,
      "outputs": [
        {
          "output_type": "stream",
          "name": "stdout",
          "text": [
            "KNN Imputation -> RMSE: 34.6324, Pearson: 0.9839\n",
            "Mean Imputation -> RMSE: 34.6324, Pearson: 0.9839\n"
          ]
        }
      ]
    },
    {
      "cell_type": "code",
      "source": [
        "import matplotlib.pyplot as plt\n",
        "import seaborn as sns\n",
        "import numpy as np\n",
        "\n",
        "observed_mask = ~np.isnan(X)\n",
        "errors = (X[observed_mask] - X_knn_imputed[observed_mask]).flatten()\n",
        "\n",
        "# Error distribution plot\n",
        "plt.figure(figsize=(8,5))\n",
        "sns.histplot(errors, bins=50, color='skyblue', edgecolor='black')\n",
        "plt.title(\"Distribution of Imputation Errors (KNN)\")\n",
        "plt.xlabel(\"Error\")\n",
        "plt.ylabel(\"Frequency\")\n",
        "plt.show()\n",
        "\n",
        "# For large datasets, use top 50 most variable features for visualization\n",
        "variances = X_knn_imputed.var(axis=0)\n",
        "top_idx = np.argsort(variances)[-50:]  # indices of top 50 variable features\n",
        "corr_matrix = np.corrcoef(X_knn_imputed[:, top_idx].T)\n",
        "\n",
        "plt.figure(figsize=(10,8))\n",
        "sns.heatmap(corr_matrix, cmap=\"coolwarm\")\n",
        "plt.title(\"Feature Correlation Heatmap (Top 50 Genes)\")\n",
        "plt.show()\n"
      ],
      "metadata": {
        "colab": {
          "base_uri": "https://localhost:8080/",
          "height": 1000
        },
        "id": "6V5VUmKG3dCO",
        "outputId": "bbe9b3ef-bac1-466b-c846-607b9fc6505b"
      },
      "execution_count": 15,
      "outputs": [
        {
          "output_type": "display_data",
          "data": {
            "text/plain": [
              "<Figure size 800x500 with 1 Axes>"
            ],
            "image/png": "[encoded data removed]"
          },
          "metadata": {}
        },
        {
          "output_type": "display_data",
          "data": {
            "text/plain": [
              "<Figure size 1000x800 with 2 Axes>"
            ],
            "image/png": "[encoded data removed]"
          },
          "metadata": {}
        }
      ]
    },
    {
      "cell_type": "code",
      "source": [],
      "metadata": {
        "id": "rE2eEtjj3dFs"
      },
      "execution_count": null,
      "outputs": []
    }
  ]
}